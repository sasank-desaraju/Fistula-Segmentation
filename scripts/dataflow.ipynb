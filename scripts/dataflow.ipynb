{
 "cells": [
  {
   "cell_type": "markdown",
   "metadata": {},
   "source": [
    "This is to test the workflow and printing of the images by using the following two tutorials:\n",
    "\n",
    "[PyTorch Vizualization Tutorial](https://github.com/Project-MONAI/tutorials/blob/main/3d_segmentation/spleen_segmentation_3d_visualization_basic.ipynb)\n",
    "\n",
    "[PyTorch Lightning Tutorial](https://github.com/Project-MONAI/tutorials/blob/main/3d_segmentation/spleen_segmentation_3d_lightning.ipynb)"
   ]
  },
  {
   "cell_type": "markdown",
   "metadata": {},
   "source": [
    "Config"
   ]
  },
  {
   "cell_type": "code",
   "execution_count": null,
   "metadata": {},
   "outputs": [],
   "source": [
    "import torch\n",
    "import torch.nn as nn\n",
    "import albumentations as A\n",
    "import numpy as np\n",
    "import time\n",
    "import os\n",
    "\n",
    "\"\"\"\n",
    "Fistula Segmentation\n",
    "\"\"\"\n",
    "class Configuration:\n",
    "    def __init__(self):\n",
    "        self.init = {\n",
    "            'PROJECT_NAME': 'FistulaSegmentation',\n",
    "            'MODEL_NAME': 'Development',\n",
    "            'RUN_NAME': time.strftime('%Y-%m-%d-%H-%M-%S'),\n",
    "            'WANDB_RUN_GROUP': 'Local',\n",
    "            'FAST_DEV_RUN': True,  # Runs inputted batches (True->1) and disables logging and some callbacks\n",
    "            'MAX_EPOCHS': 3,\n",
    "            'MAX_STEPS': -1,    # -1 means it will do all steps and be limited by epochs\n",
    "            'STRATEGY': 'auto'    # This is the training strategy. Should be 'ddp' for multi-GPU (like HPG)\n",
    "        }\n",
    "        self.etl = {\n",
    "            'DATA_DIR': \"data\",\n",
    "            # Lol what is this?\n",
    "            # HHG2TG lol; deterministic to aid reproducibility\n",
    "            'RANDOM_STATE': 42,\n",
    "        }\n",
    "\n",
    "        self.dataset = {\n",
    "            'DATA_NAME': 'BaseSplit',\n",
    "            'USE_TRANSFORMS': False,\n",
    "            'IMAGE_ROOT': '/media/sasank/LinuxStorage/Dropbox (UFL)/FistulaData/Segmentations/',\n",
    "            'IMAGE_SIZE': (512, 512, 96)\n",
    "        }\n",
    "\n",
    "        self.datamodule = {\n",
    "            'CKPT_FILE': '/media/sasank/LinuxStorage/Dropbox (UFL)/FistulaData/checkpoints/100Epoch87IOU.ckpt',\n",
    "            'BATCH_SIZE': 1,\n",
    "            'FIT_CACHE_NUM': 2,\n",
    "            'SHUFFLE': True,        # Only for training; for test and val this is set in the datamodule script to False\n",
    "            'NUM_WORKERS': 2,\n",
    "            'PIN_MEMORY': False\n",
    "        }\n",
    "\n",
    "\n",
    "        # hyperparameters for training\n",
    "        self.hparams = {\n",
    "            'LOAD_FROM_CHECKPOINT': False,\n",
    "            'learning_rate': 1e-3\n",
    "        }\n",
    "\n",
    "        #self.transform = None\n",
    "        self.transform = \\\n",
    "        A.Compose([\n",
    "            # Let's do only rigid transformations for now\n",
    "            A.HorizontalFlip(p=0.2),\n",
    "            A.VerticalFlip(p=0.2),\n",
    "            A.RandomRotate90(p=0.2),\n",
    "            A.Transpose(p=0.2),\n",
    "        ],\n",
    "        p=1.0)\n"
   ]
  },
  {
   "cell_type": "markdown",
   "metadata": {},
   "source": [
    "Dataset (let's just do Dataset and not do Datamodule yet)"
   ]
  },
  {
   "cell_type": "code",
   "execution_count": null,
   "metadata": {},
   "outputs": [],
   "source": []
  }
 ],
 "metadata": {
  "kernelspec": {
   "display_name": "jtml",
   "language": "python",
   "name": "python3"
  },
  "language_info": {
   "name": "python",
   "version": "3.10.10"
  }
 },
 "nbformat": 4,
 "nbformat_minor": 2
}
