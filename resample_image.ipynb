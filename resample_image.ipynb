{
 "cells": [
  {
   "cell_type": "code",
   "execution_count": 5,
   "id": "93c56df6",
   "metadata": {},
   "outputs": [
    {
     "name": "stdout",
     "output_type": "stream",
     "text": [
      "Image Size:  (512, 512, 254)\n",
      "Image Spacing:  (0.798828125, 0.798828125, 2.0)\n"
     ]
    }
   ],
   "source": [
    "import SimpleITK as sitk\n",
    "img = sitk.ReadImage('./wd0000_ps_image.nii.gz') #size = 512x512x96, spacing = 1x1x1\n",
    "\n",
    "\n",
    "print(\"Image Size: \", img.GetSize())\n",
    "print(\"Image Spacing: \", img.GetSpacing())\n"
   ]
  },
  {
   "cell_type": "code",
   "execution_count": 6,
   "id": "a8b409ba",
   "metadata": {},
   "outputs": [],
   "source": [
    "ref = sitk.Image(96, 512,512, sitk.sitkFloat32)\n",
    "ref.SetOrigin(img.GetOrigin())\n",
    "ref.SetDirection(img.GetDirection())\n",
    "spacing = img.GetSpacing() # x,y,z spacing\n",
    "size = img.GetSize()\n",
    "spacing_x = spacing[0]*size[0]/96\n",
    "spacing_y = spacing[1]*size[1]/512\n",
    "spacing_z = spacing[2]*size[2]/512\n",
    "\n",
    "ref.SetSpacing((spacing_x,spacing_y,spacing_z))"
   ]
  },
  {
   "cell_type": "code",
   "execution_count": 7,
   "id": "0e702b65",
   "metadata": {},
   "outputs": [],
   "source": [
    "res = sitk.ResampleImageFilter()\n",
    "res.SetReferenceImage(ref)\n",
    "img_resampled = res.Execute(img)"
   ]
  },
  {
   "cell_type": "code",
   "execution_count": 8,
   "id": "5d006139",
   "metadata": {},
   "outputs": [],
   "source": [
    "sitk.WriteImage(img_resampled, './resampled.nii.gz')"
   ]
  },
  {
   "cell_type": "code",
   "execution_count": null,
   "id": "1b84e600",
   "metadata": {},
   "outputs": [],
   "source": []
  }
 ],
 "metadata": {
  "kernelspec": {
   "display_name": "Python 3 (ipykernel)",
   "language": "python",
   "name": "python3"
  },
  "language_info": {
   "codemirror_mode": {
    "name": "ipython",
    "version": 3
   },
   "file_extension": ".py",
   "mimetype": "text/x-python",
   "name": "python",
   "nbconvert_exporter": "python",
   "pygments_lexer": "ipython3",
   "version": "3.10.6"
  }
 },
 "nbformat": 4,
 "nbformat_minor": 5
}
